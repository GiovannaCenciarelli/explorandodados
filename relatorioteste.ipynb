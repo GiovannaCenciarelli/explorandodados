{
 "cells": [
  {
   "cell_type": "code",
   "execution_count": 1,
   "id": "96c41458",
   "metadata": {
    "_cell_guid": "b1076dfc-b9ad-4769-8c92-a6c4dae69d19",
    "_uuid": "8f2839f25d086af736a60e9eeb907d3b93b6e0e5",
    "execution": {
     "iopub.execute_input": "2024-10-22T18:28:06.167170Z",
     "iopub.status.busy": "2024-10-22T18:28:06.166320Z",
     "iopub.status.idle": "2024-10-22T18:28:06.173471Z",
     "shell.execute_reply": "2024-10-22T18:28:06.172207Z"
    },
    "papermill": {
     "duration": 0.014549,
     "end_time": "2024-10-22T18:28:06.176267",
     "exception": false,
     "start_time": "2024-10-22T18:28:06.161718",
     "status": "completed"
    },
    "tags": []
   },
   "outputs": [],
   "source": [
    "#estudos PDE"
   ]
  }
 ],
 "metadata": {
  "kaggle": {
   "accelerator": "none",
   "dataSources": [],
   "dockerImageVersionId": 30786,
   "isGpuEnabled": false,
   "isInternetEnabled": true,
   "language": "python",
   "sourceType": "notebook"
  },
  "kernelspec": {
   "display_name": "Python 3",
   "language": "python",
   "name": "python3"
  },
  "language_info": {
   "codemirror_mode": {
    "name": "ipython",
    "version": 3
   },
   "file_extension": ".py",
   "mimetype": "text/x-python",
   "name": "python",
   "nbconvert_exporter": "python",
   "pygments_lexer": "ipython3",
   "version": "3.10.14"
  },
  "papermill": {
   "default_parameters": {},
   "duration": 3.352474,
   "end_time": "2024-10-22T18:28:06.497630",
   "environment_variables": {},
   "exception": null,
   "input_path": "__notebook__.ipynb",
   "output_path": "__notebook__.ipynb",
   "parameters": {},
   "start_time": "2024-10-22T18:28:03.145156",
   "version": "2.6.0"
  }
 },
 "nbformat": 4,
 "nbformat_minor": 5
}

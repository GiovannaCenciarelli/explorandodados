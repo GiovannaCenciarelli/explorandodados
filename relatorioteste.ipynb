{
 "cells": [
  {
   "cell_type": "markdown",
   "id": "3d03fbcd",
   "metadata": {
    "papermill": {
     "duration": 0.002385,
     "end_time": "2024-10-22T18:30:22.307168",
     "exception": false,
     "start_time": "2024-10-22T18:30:22.304783",
     "status": "completed"
    },
    "tags": []
   },
   "source": []
  },
  {
   "cell_type": "markdown",
   "id": "3547e693",
   "metadata": {
    "papermill": {
     "duration": 0.001462,
     "end_time": "2024-10-22T18:30:22.310782",
     "exception": false,
     "start_time": "2024-10-22T18:30:22.309320",
     "status": "completed"
    },
    "tags": []
   },
   "source": [
    "**TESTANDO PUXAR DADOS, USAR O SEABORN E TALS ****# "
   ]
  }
 ],
 "metadata": {
  "kaggle": {
   "accelerator": "none",
   "dataSources": [],
   "dockerImageVersionId": 30786,
   "isGpuEnabled": false,
   "isInternetEnabled": true,
   "language": "python",
   "sourceType": "notebook"
  },
  "kernelspec": {
   "display_name": "Python 3",
   "language": "python",
   "name": "python3"
  },
  "language_info": {
   "codemirror_mode": {
    "name": "ipython",
    "version": 3
   },
   "file_extension": ".py",
   "mimetype": "text/x-python",
   "name": "python",
   "nbconvert_exporter": "python",
   "pygments_lexer": "ipython3",
   "version": "3.10.14"
  },
  "papermill": {
   "default_parameters": {},
   "duration": 3.527162,
   "end_time": "2024-10-22T18:30:22.733012",
   "environment_variables": {},
   "exception": null,
   "input_path": "__notebook__.ipynb",
   "output_path": "__notebook__.ipynb",
   "parameters": {},
   "start_time": "2024-10-22T18:30:19.205850",
   "version": "2.6.0"
  }
 },
 "nbformat": 4,
 "nbformat_minor": 5
}
